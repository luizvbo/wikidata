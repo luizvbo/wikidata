{
 "cells": [
  {
   "cell_type": "code",
   "execution_count": 1,
   "metadata": {},
   "outputs": [],
   "source": [
    "path_wiki_parquet = 'wikipedia.parquet'\n"
   ]
  },
  {
   "cell_type": "code",
   "execution_count": 4,
   "metadata": {},
   "outputs": [],
   "source": [
    "import os\n",
    "os.environ[\"MODIN_ENGINE\"] = \"ray\"  # Modin will use Ray\n",
    "\n",
    "import modin.pandas as pd"
   ]
  },
  {
   "cell_type": "code",
   "execution_count": null,
   "metadata": {},
   "outputs": [],
   "source": [
    "df = pd.read_parquet(path_wiki_parquet)"
   ]
  },
  {
   "cell_type": "code",
   "execution_count": null,
   "metadata": {},
   "outputs": [],
   "source": []
  },
  {
   "cell_type": "code",
   "execution_count": null,
   "metadata": {},
   "outputs": [],
   "source": []
  },
  {
   "cell_type": "code",
   "execution_count": null,
   "metadata": {},
   "outputs": [],
   "source": []
  },
  {
   "cell_type": "code",
   "execution_count": 3,
   "metadata": {},
   "outputs": [],
   "source": [
    "import pandas as pd"
   ]
  },
  {
   "cell_type": "code",
   "execution_count": 4,
   "metadata": {},
   "outputs": [],
   "source": [
    "df = pd.read_parquet('wikipedia.parquet/00050af530594f82861d18a3d58c4318.parquet')"
   ]
  },
  {
   "cell_type": "code",
   "execution_count": 5,
   "metadata": {},
   "outputs": [
    {
     "data": {
      "text/html": [
       "<div>\n",
       "<style scoped>\n",
       "    .dataframe tbody tr th:only-of-type {\n",
       "        vertical-align: middle;\n",
       "    }\n",
       "\n",
       "    .dataframe tbody tr th {\n",
       "        vertical-align: top;\n",
       "    }\n",
       "\n",
       "    .dataframe thead th {\n",
       "        text-align: right;\n",
       "    }\n",
       "</style>\n",
       "<table border=\"1\" class=\"dataframe\">\n",
       "  <thead>\n",
       "    <tr style=\"text-align: right;\">\n",
       "      <th></th>\n",
       "      <th>title</th>\n",
       "      <th>article</th>\n",
       "    </tr>\n",
       "  </thead>\n",
       "  <tbody>\n",
       "    <tr>\n",
       "      <th>56088419</th>\n",
       "      <td>Chinatown Station</td>\n",
       "      <td>#REDIRECT [[Chinatown station]]\\n\\n{{R from mo...</td>\n",
       "    </tr>\n",
       "    <tr>\n",
       "      <th>56088421</th>\n",
       "      <td>Member of the Order of the Volta</td>\n",
       "      <td>#REDIRECT [[Order of the Volta]]</td>\n",
       "    </tr>\n",
       "    <tr>\n",
       "      <th>56088424</th>\n",
       "      <td>City Square (MBTA station)</td>\n",
       "      <td>#REDIRECT [[City Square station]]\\n\\n{{R from ...</td>\n",
       "    </tr>\n",
       "    <tr>\n",
       "      <th>56088426</th>\n",
       "      <td>Sherlock Holmes of Baker Street</td>\n",
       "      <td>{{Infobox book | &lt;!-- See Wikipedia:WikiProjec...</td>\n",
       "    </tr>\n",
       "    <tr>\n",
       "      <th>56088427</th>\n",
       "      <td>Jyushin \"Thunder\" Liger</td>\n",
       "      <td>#REDIRECT [[Jushin Liger]]</td>\n",
       "    </tr>\n",
       "    <tr>\n",
       "      <th>...</th>\n",
       "      <td>...</td>\n",
       "      <td>...</td>\n",
       "    </tr>\n",
       "    <tr>\n",
       "      <th>56091279</th>\n",
       "      <td>Template:Taxonomy/Clytomyias</td>\n",
       "      <td>{{Don't edit this line {{{machine code|}}}\\n|r...</td>\n",
       "    </tr>\n",
       "    <tr>\n",
       "      <th>56091282</th>\n",
       "      <td>Category:Andorra–Ireland relations</td>\n",
       "      <td>{{Foo–Bar relations category}}</td>\n",
       "    </tr>\n",
       "    <tr>\n",
       "      <th>56091286</th>\n",
       "      <td>Category:Algeria–Ireland relations</td>\n",
       "      <td>{{Commons category|Relations of Algeria and Ir...</td>\n",
       "    </tr>\n",
       "    <tr>\n",
       "      <th>56091287</th>\n",
       "      <td>Draft:Essential Biodiversity Variables</td>\n",
       "      <td>#REDIRECT [[Essential Biodiversity Variables]]...</td>\n",
       "    </tr>\n",
       "    <tr>\n",
       "      <th>56091288</th>\n",
       "      <td>Coatzacoalcos (municipality)</td>\n",
       "      <td>#REDIRECT [[Coatzacoalcos Municipality]]\\n\\n{{...</td>\n",
       "    </tr>\n",
       "  </tbody>\n",
       "</table>\n",
       "<p>1000 rows × 2 columns</p>\n",
       "</div>"
      ],
      "text/plain": [
       "                                           title  \\\n",
       "56088419                       Chinatown Station   \n",
       "56088421        Member of the Order of the Volta   \n",
       "56088424              City Square (MBTA station)   \n",
       "56088426         Sherlock Holmes of Baker Street   \n",
       "56088427                 Jyushin \"Thunder\" Liger   \n",
       "...                                          ...   \n",
       "56091279            Template:Taxonomy/Clytomyias   \n",
       "56091282      Category:Andorra–Ireland relations   \n",
       "56091286      Category:Algeria–Ireland relations   \n",
       "56091287  Draft:Essential Biodiversity Variables   \n",
       "56091288            Coatzacoalcos (municipality)   \n",
       "\n",
       "                                                    article  \n",
       "56088419  #REDIRECT [[Chinatown station]]\\n\\n{{R from mo...  \n",
       "56088421                   #REDIRECT [[Order of the Volta]]  \n",
       "56088424  #REDIRECT [[City Square station]]\\n\\n{{R from ...  \n",
       "56088426  {{Infobox book | <!-- See Wikipedia:WikiProjec...  \n",
       "56088427                         #REDIRECT [[Jushin Liger]]  \n",
       "...                                                     ...  \n",
       "56091279  {{Don't edit this line {{{machine code|}}}\\n|r...  \n",
       "56091282                     {{Foo–Bar relations category}}  \n",
       "56091286  {{Commons category|Relations of Algeria and Ir...  \n",
       "56091287  #REDIRECT [[Essential Biodiversity Variables]]...  \n",
       "56091288  #REDIRECT [[Coatzacoalcos Municipality]]\\n\\n{{...  \n",
       "\n",
       "[1000 rows x 2 columns]"
      ]
     },
     "execution_count": 5,
     "metadata": {},
     "output_type": "execute_result"
    }
   ],
   "source": [
    "df"
   ]
  }
 ],
 "metadata": {
  "kernelspec": {
   "display_name": "Python 3",
   "language": "python",
   "name": "python3"
  },
  "language_info": {
   "codemirror_mode": {
    "name": "ipython",
    "version": 3
   },
   "file_extension": ".py",
   "mimetype": "text/x-python",
   "name": "python",
   "nbconvert_exporter": "python",
   "pygments_lexer": "ipython3",
   "version": "3.6.9"
  }
 },
 "nbformat": 4,
 "nbformat_minor": 4
}
